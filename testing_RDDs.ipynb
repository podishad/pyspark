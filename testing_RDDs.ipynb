{
 "cells": [
  {
   "cell_type": "code",
   "execution_count": 1,
   "id": "eee8c146",
   "metadata": {},
   "outputs": [],
   "source": [
    "from pyspark.sql import SparkSession\n",
    "spark = (SparkSession.builder.appName(\"TestingRDDs\").getOrCreate())"
   ]
  },
  {
   "cell_type": "code",
   "execution_count": 2,
   "id": "f1efae4a",
   "metadata": {},
   "outputs": [
    {
     "data": {
      "text/plain": [
       "pyspark.sql.session.SparkSession"
      ]
     },
     "execution_count": 2,
     "metadata": {},
     "output_type": "execute_result"
    }
   ],
   "source": [
    "type(spark)"
   ]
  },
  {
   "cell_type": "code",
   "execution_count": 3,
   "id": "bd6b5965",
   "metadata": {},
   "outputs": [
    {
     "name": "stdout",
     "output_type": "stream",
     "text": [
      "['Imagine', 'spark', 'that', 'performs', 'research', 'on', 'many', 'diversified', 'topics', 'and', 'that', 'is', 'spark']\n"
     ]
    }
   ],
   "source": [
    "words_list = \"Imagine spark that performs research on many diversified topics and that is spark\".split()\n",
    "type(words_list)\n",
    "print(words_list)"
   ]
  },
  {
   "cell_type": "code",
   "execution_count": 4,
   "id": "749a1774",
   "metadata": {},
   "outputs": [
    {
     "name": "stdout",
     "output_type": "stream",
     "text": [
      "Imagine\n",
      "spark\n",
      "that\n",
      "performs\n",
      "research\n",
      "on\n",
      "many\n",
      "diversified\n",
      "topics\n",
      "and\n",
      "that\n",
      "is\n",
      "spark\n"
     ]
    }
   ],
   "source": [
    "words_rdd = spark.sparkContext.parallelize(words_list)\n",
    "words_data = words_rdd.collect()\n",
    "\n",
    "for word in words_data:\n",
    "    print(word)"
   ]
  },
  {
   "cell_type": "code",
   "execution_count": 5,
   "id": "bb575d7d",
   "metadata": {},
   "outputs": [
    {
     "data": {
      "text/plain": [
       "13"
      ]
     },
     "execution_count": 5,
     "metadata": {},
     "output_type": "execute_result"
    }
   ],
   "source": [
    "words_rdd.count()"
   ]
  },
  {
   "cell_type": "code",
   "execution_count": 6,
   "id": "2435f93b",
   "metadata": {},
   "outputs": [
    {
     "data": {
      "text/plain": [
       "11"
      ]
     },
     "execution_count": 6,
     "metadata": {},
     "output_type": "execute_result"
    }
   ],
   "source": [
    "words_rdd_distinct = words_rdd.distinct()\n",
    "words_rdd.distinct().count()"
   ]
  },
  {
   "cell_type": "code",
   "execution_count": 7,
   "id": "4d96c80b",
   "metadata": {},
   "outputs": [
    {
     "name": "stdout",
     "output_type": "stream",
     "text": [
      "Imagine\n",
      "performs\n",
      "spark\n",
      "topics\n",
      "on\n",
      "research\n",
      "that\n",
      "many\n",
      "diversified\n",
      "and\n",
      "is\n"
     ]
    }
   ],
   "source": [
    "for word in words_rdd_distinct.collect():\n",
    "    print (word)"
   ]
  },
  {
   "cell_type": "code",
   "execution_count": 8,
   "id": "e71937bb",
   "metadata": {},
   "outputs": [],
   "source": [
    "def wordswithletter(word, letter):\n",
    "    return word.startswith(letter)"
   ]
  },
  {
   "cell_type": "code",
   "execution_count": 9,
   "id": "749d1dd0",
   "metadata": {},
   "outputs": [
    {
     "data": {
      "text/plain": [
       "['spark', 'spark']"
      ]
     },
     "execution_count": 9,
     "metadata": {},
     "output_type": "execute_result"
    }
   ],
   "source": [
    "words_rdd.filter(lambda x: wordswithletter(x,'s')).collect()"
   ]
  }
 ],
 "metadata": {
  "kernelspec": {
   "display_name": "Python 3",
   "language": "python",
   "name": "python3"
  },
  "language_info": {
   "codemirror_mode": {
    "name": "ipython",
    "version": 3
   },
   "file_extension": ".py",
   "mimetype": "text/x-python",
   "name": "python",
   "nbconvert_exporter": "python",
   "pygments_lexer": "ipython3",
   "version": "3.8.8"
  }
 },
 "nbformat": 4,
 "nbformat_minor": 5
}
