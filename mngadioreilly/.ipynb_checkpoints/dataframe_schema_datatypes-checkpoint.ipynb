{
 "cells": [
  {
   "cell_type": "code",
   "execution_count": 4,
   "id": "90159599",
   "metadata": {},
   "outputs": [],
   "source": [
    "from pyspark.sql import SparkSession\n",
    "from pyspark.sql.types import StructType,StructField, StringType, IntegerType"
   ]
  },
  {
   "cell_type": "code",
   "execution_count": 1,
   "id": "ec1264e5",
   "metadata": {},
   "outputs": [],
   "source": [
    "spark = SparkSession.builder.appName(\"df_schema_dt\").getOrCreate()"
   ]
  },
  {
   "cell_type": "code",
   "execution_count": 10,
   "id": "4b970363",
   "metadata": {},
   "outputs": [],
   "source": [
    "data_created =[(\"1FDavid\",\"1MDavid\",\"1LDavid\",\"112345\",\"M\",3000),\n",
    "       (\"2FDavid\",\"2MDavid\",\"\",\"2212345\",\"M\",32000),\n",
    "       (\"3FDavid\",\"3MDavid\",\"3LDavid\",\"3312345\",\"M\",31000),\n",
    "       (\"4FDavid\",\"4MDavid\",\"\",\"4412345\",\"F\",13000),\n",
    "       (\"5FDavid\",\"5MDavid\",\"4LDavid\",\"5512345\",\"M\",43000),\n",
    "       (\"6FDavid\",\"\",\"1LDavid\",\"6612345\",\"M\",33000),\n",
    "       (\"7FDavid\",\"7MDavid\",\"5LDavid\",\"7712345\",\"F\",63000),\n",
    "       (\"8FDavid\",\"8MDavid\",\"6LDavid\",\"99912345\",\"F\",83000)\n",
    "      \n",
    "      \n",
    "      ]"
   ]
  },
  {
   "cell_type": "code",
   "execution_count": 11,
   "id": "54aef21e",
   "metadata": {},
   "outputs": [],
   "source": [
    "schema_created = StructType([\n",
    "    StructField(\"FirstName\", StringType(), True),\n",
    "    StructField(\"MiddleName\", StringType(), True),\n",
    "    StructField(\"LastName\", StringType(), True),\n",
    "    StructField(\"ID\", StringType(), True),\n",
    "    StructField(\"Gender\", StringType(), True),\n",
    "    StructField(\"Salary\", IntegerType(), True)\n",
    "])"
   ]
  },
  {
   "cell_type": "code",
   "execution_count": 12,
   "id": "f742b370",
   "metadata": {},
   "outputs": [
    {
     "name": "stdout",
     "output_type": "stream",
     "text": [
      "root\n",
      " |-- FirstName: string (nullable = true)\n",
      " |-- MiddleName: string (nullable = true)\n",
      " |-- LastName: string (nullable = true)\n",
      " |-- ID: string (nullable = true)\n",
      " |-- Gender: string (nullable = true)\n",
      " |-- Salary: integer (nullable = true)\n",
      "\n"
     ]
    }
   ],
   "source": [
    "df = spark.createDataFrame(data = data_created, schema=schema_created)\n",
    "df.printSchema()"
   ]
  },
  {
   "cell_type": "code",
   "execution_count": 13,
   "id": "1fc61f99",
   "metadata": {},
   "outputs": [
    {
     "name": "stdout",
     "output_type": "stream",
     "text": [
      "+---------+----------+--------+--------+------+------+\n",
      "|FirstName|MiddleName|LastName|ID      |Gender|Salary|\n",
      "+---------+----------+--------+--------+------+------+\n",
      "|1FDavid  |1MDavid   |1LDavid |112345  |M     |3000  |\n",
      "|2FDavid  |2MDavid   |        |2212345 |M     |32000 |\n",
      "|3FDavid  |3MDavid   |3LDavid |3312345 |M     |31000 |\n",
      "|4FDavid  |4MDavid   |        |4412345 |F     |13000 |\n",
      "|5FDavid  |5MDavid   |4LDavid |5512345 |M     |43000 |\n",
      "|6FDavid  |          |1LDavid |6612345 |M     |33000 |\n",
      "|7FDavid  |7MDavid   |5LDavid |7712345 |F     |63000 |\n",
      "|8FDavid  |8MDavid   |6LDavid |99912345|F     |83000 |\n",
      "+---------+----------+--------+--------+------+------+\n",
      "\n"
     ]
    }
   ],
   "source": [
    "df.show(truncate=False)"
   ]
  },
  {
   "cell_type": "code",
   "execution_count": null,
   "id": "7af159f7",
   "metadata": {},
   "outputs": [],
   "source": []
  },
  {
   "cell_type": "code",
   "execution_count": 15,
   "id": "adcc9f2b",
   "metadata": {},
   "outputs": [],
   "source": [
    "file_loc = \"../data/1000 Records.csv\""
   ]
  },
  {
   "cell_type": "code",
   "execution_count": 20,
   "id": "9233791b",
   "metadata": {},
   "outputs": [
    {
     "name": "stdout",
     "output_type": "stream",
     "text": [
      "+------+----------+------+-----------+-----+\n",
      "|Emp ID|First Name|Gender|        SSN|  Zip|\n",
      "+------+----------+------+-----------+-----+\n",
      "|850297|    Shawna|     F|222-11-7603|89128|\n",
      "|304721| Nathaniel|     M|550-99-9897|49644|\n",
      "|412317| Elisabeth|     F|215-91-0004|40501|\n",
      "|621375|    Briana|     F|534-71-1053|46321|\n",
      "+------+----------+------+-----------+-----+\n",
      "only showing top 4 rows\n",
      "\n"
     ]
    }
   ],
   "source": [
    "file_loc = \"../data/1000 Records.csv\"\n",
    "emp_df = spark.read.csv(file_loc, header=True, inferSchema=True)\n",
    "emp_df.select(\"Emp ID\", \"First Name\", \"Gender\", \"SSN\", \"Zip\").show(4, truncate=True)"
   ]
  },
  {
   "cell_type": "code",
   "execution_count": 18,
   "id": "b635941e",
   "metadata": {},
   "outputs": [
    {
     "name": "stdout",
     "output_type": "stream",
     "text": [
      "root\n",
      " |-- Emp ID: integer (nullable = true)\n",
      " |-- Name Prefix: string (nullable = true)\n",
      " |-- First Name: string (nullable = true)\n",
      " |-- Middle Initial: string (nullable = true)\n",
      " |-- Last Name: string (nullable = true)\n",
      " |-- Gender: string (nullable = true)\n",
      " |-- E Mail: string (nullable = true)\n",
      " |-- Father's Name: string (nullable = true)\n",
      " |-- Mother's Name: string (nullable = true)\n",
      " |-- Mother's Maiden Name: string (nullable = true)\n",
      " |-- Date of Birth: string (nullable = true)\n",
      " |-- Time of Birth: string (nullable = true)\n",
      " |-- Age in Yrs.: double (nullable = true)\n",
      " |-- Weight in Kgs.: integer (nullable = true)\n",
      " |-- Date of Joining: string (nullable = true)\n",
      " |-- Quarter of Joining: string (nullable = true)\n",
      " |-- Half of Joining: string (nullable = true)\n",
      " |-- Year of Joining: integer (nullable = true)\n",
      " |-- Month of Joining: integer (nullable = true)\n",
      " |-- Month Name of Joining: string (nullable = true)\n",
      " |-- Short Month: string (nullable = true)\n",
      " |-- Day of Joining: integer (nullable = true)\n",
      " |-- DOW of Joining: string (nullable = true)\n",
      " |-- Short DOW: string (nullable = true)\n",
      " |-- Age in Company (Years): double (nullable = true)\n",
      " |-- Salary: integer (nullable = true)\n",
      " |-- Last % Hike: string (nullable = true)\n",
      " |-- SSN: string (nullable = true)\n",
      " |-- Phone No. : string (nullable = true)\n",
      " |-- Place Name: string (nullable = true)\n",
      " |-- County: string (nullable = true)\n",
      " |-- City: string (nullable = true)\n",
      " |-- State: string (nullable = true)\n",
      " |-- Zip: integer (nullable = true)\n",
      " |-- Region: string (nullable = true)\n",
      " |-- User Name: string (nullable = true)\n",
      " |-- Password: string (nullable = true)\n",
      "\n"
     ]
    }
   ],
   "source": [
    "emp_df.printSchema()"
   ]
  },
  {
   "cell_type": "code",
   "execution_count": null,
   "id": "393bf530",
   "metadata": {},
   "outputs": [],
   "source": [
    "\n"
   ]
  },
  {
   "cell_type": "code",
   "execution_count": 35,
   "id": "3d5da35e",
   "metadata": {},
   "outputs": [],
   "source": [
    "outpath_path = \"../data_output\"\n",
    "## emp_df\n",
    "df.write.format(\"parquet\")\\\n",
    "         .mode(\"overwrite\")\\\n",
    "         .save(outpath_path)"
   ]
  },
  {
   "cell_type": "code",
   "execution_count": null,
   "id": "9f34160a",
   "metadata": {},
   "outputs": [],
   "source": []
  },
  {
   "cell_type": "code",
   "execution_count": null,
   "id": "9be995c9",
   "metadata": {},
   "outputs": [],
   "source": []
  },
  {
   "cell_type": "code",
   "execution_count": null,
   "id": "5d6c9f99",
   "metadata": {},
   "outputs": [],
   "source": []
  },
  {
   "cell_type": "code",
   "execution_count": null,
   "id": "c3d6b3ba",
   "metadata": {},
   "outputs": [],
   "source": []
  }
 ],
 "metadata": {
  "kernelspec": {
   "display_name": "Python 3",
   "language": "python",
   "name": "python3"
  },
  "language_info": {
   "codemirror_mode": {
    "name": "ipython",
    "version": 3
   },
   "file_extension": ".py",
   "mimetype": "text/x-python",
   "name": "python",
   "nbconvert_exporter": "python",
   "pygments_lexer": "ipython3",
   "version": "3.8.8"
  }
 },
 "nbformat": 4,
 "nbformat_minor": 5
}
