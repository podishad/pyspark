{
 "cells": [
  {
   "cell_type": "code",
   "execution_count": 1,
   "id": "ffcae160",
   "metadata": {},
   "outputs": [],
   "source": [
    "from pyspark.sql import SparkSession\n",
    "spark = SparkSession.builder.appName(\"MoreExamples\").getOrCreate()"
   ]
  },
  {
   "cell_type": "code",
   "execution_count": 4,
   "id": "787e5ccc",
   "metadata": {},
   "outputs": [
    {
     "name": "stdout",
     "output_type": "stream",
     "text": [
      "Spark is an awesome language for bigdata. Spark is used for bigdata\n"
     ]
    }
   ],
   "source": [
    "words_string = \"Spark is an awesome language for bigdata. Spark is used for bigdata\"\n",
    "print(words_string)"
   ]
  },
  {
   "cell_type": "code",
   "execution_count": 5,
   "id": "587931ad",
   "metadata": {},
   "outputs": [
    {
     "name": "stdout",
     "output_type": "stream",
     "text": [
      "['Spark', 'is', 'an', 'awesome', 'language', 'for', 'bigdata.', 'Spark', 'is', 'used', 'for', 'bigdata']\n"
     ]
    }
   ],
   "source": [
    "words_list = words_string.split(\" \")\n",
    "print(words_list)"
   ]
  },
  {
   "cell_type": "code",
   "execution_count": 11,
   "id": "6f02209f",
   "metadata": {},
   "outputs": [
    {
     "name": "stdout",
     "output_type": "stream",
     "text": [
      "ParallelCollectionRDD[2] at readRDDFromFile at PythonRDD.scala:274\n"
     ]
    }
   ],
   "source": [
    "words_rdd = spark.sparkContext.parallelize(words_list)\n",
    "words_rdd_list = words_rdd.collect()\n",
    "print(words_rdd)"
   ]
  },
  {
   "cell_type": "code",
   "execution_count": 12,
   "id": "01912ca7",
   "metadata": {},
   "outputs": [
    {
     "name": "stdout",
     "output_type": "stream",
     "text": [
      "Spark\n",
      "is\n",
      "an\n",
      "awesome\n",
      "language\n",
      "for\n",
      "bigdata.\n",
      "Spark\n",
      "is\n",
      "used\n",
      "for\n",
      "bigdata\n"
     ]
    }
   ],
   "source": [
    "for word in words_rdd_list:\n",
    "    print (word)"
   ]
  },
  {
   "cell_type": "code",
   "execution_count": 15,
   "id": "8e11290f",
   "metadata": {},
   "outputs": [
    {
     "name": "stdout",
     "output_type": "stream",
     "text": [
      "['bigdata.', 'awesome', 'bigdata', 'an', 'Spark', 'language', 'for', 'used', 'is']\n"
     ]
    }
   ],
   "source": [
    "words_rdd_distinct = words_rdd.distinct()\n",
    "print(words_rdd_distinct.collect())"
   ]
  },
  {
   "cell_type": "code",
   "execution_count": 16,
   "id": "84624f9d",
   "metadata": {},
   "outputs": [],
   "source": [
    "### Display words that starts wih letter s\n",
    "def matchingLetter(word, letter):\n",
    "    return word.startswith(letter)"
   ]
  },
  {
   "cell_type": "code",
   "execution_count": 18,
   "id": "e24c7fb7",
   "metadata": {},
   "outputs": [
    {
     "data": {
      "text/plain": [
       "['Spark', 'Spark']"
      ]
     },
     "execution_count": 18,
     "metadata": {},
     "output_type": "execute_result"
    }
   ],
   "source": [
    "words_rdd.filter(lambda word: matchingLetter(word,'S')).collect()"
   ]
  },
  {
   "cell_type": "code",
   "execution_count": 20,
   "id": "a8e0c8f5",
   "metadata": {},
   "outputs": [
    {
     "data": {
      "text/plain": [
       "range(1, 21)"
      ]
     },
     "execution_count": 20,
     "metadata": {},
     "output_type": "execute_result"
    }
   ],
   "source": [
    "range(1,21)"
   ]
  },
  {
   "cell_type": "code",
   "execution_count": 24,
   "id": "2de46a54",
   "metadata": {},
   "outputs": [
    {
     "name": "stdout",
     "output_type": "stream",
     "text": [
      "[1, 2, 3, 4, 5, 6, 7, 8, 9, 10, 11, 12, 13, 14, 15, 16, 17, 18, 19, 20, 21, 22, 23, 24, 25, 26, 27, 28, 29]\n"
     ]
    }
   ],
   "source": [
    "num_list = [*range(1,30)]\n",
    "print(num_list)"
   ]
  },
  {
   "cell_type": "code",
   "execution_count": 26,
   "id": "9ed5bf38",
   "metadata": {},
   "outputs": [
    {
     "name": "stdout",
     "output_type": "stream",
     "text": [
      "ParallelCollectionRDD[19] at readRDDFromFile at PythonRDD.scala:274\n"
     ]
    }
   ],
   "source": [
    "nums_rdd = spark.sparkContext.parallelize(num_list)\n",
    "print(nums_rdd)"
   ]
  },
  {
   "cell_type": "code",
   "execution_count": 27,
   "id": "53c79f40",
   "metadata": {},
   "outputs": [
    {
     "name": "stdout",
     "output_type": "stream",
     "text": [
      "[1, 4, 9, 16, 25, 36, 49, 64, 81, 100, 121, 144, 169, 196, 225, 256, 289, 324, 361, 400, 441, 484, 529, 576, 625, 676, 729, 784, 841]\n"
     ]
    }
   ],
   "source": [
    "### SQUARE OF THOSE NUMBERS \n",
    "nums_sq_rdd = nums_rdd.map(lambda val: val*val).collect()\n",
    "print(nums_sq_rdd)"
   ]
  },
  {
   "cell_type": "code",
   "execution_count": 28,
   "id": "7faea349",
   "metadata": {},
   "outputs": [],
   "source": [
    "### FROM WORDS_RDD CAPTUES (SPARK,S,TRUE) DETAILS USING LAMBDA\n",
    "\n",
    "words_transformed_rdd = words_rdd.map(lambda word : (word,word[0],matchingLetter(word,'s')))"
   ]
  },
  {
   "cell_type": "code",
   "execution_count": 30,
   "id": "f814b8ae",
   "metadata": {},
   "outputs": [
    {
     "name": "stdout",
     "output_type": "stream",
     "text": [
      "[('Spark', 'S', False), ('is', 'i', False), ('an', 'a', False), ('awesome', 'a', False), ('language', 'l', False), ('for', 'f', False), ('bigdata.', 'b', False), ('Spark', 'S', False), ('is', 'i', False), ('used', 'u', False), ('for', 'f', False), ('bigdata', 'b', False)]\n"
     ]
    }
   ],
   "source": [
    "print(words_transformed_rdd.collect())"
   ]
  },
  {
   "cell_type": "code",
   "execution_count": 32,
   "id": "27b50ff8",
   "metadata": {},
   "outputs": [
    {
     "name": "stdout",
     "output_type": "stream",
     "text": [
      "('Spark', 'S', False)\n",
      "('is', 'i', False)\n",
      "('an', 'a', False)\n",
      "('awesome', 'a', False)\n",
      "('language', 'l', False)\n",
      "('for', 'f', False)\n",
      "('bigdata.', 'b', False)\n",
      "('Spark', 'S', False)\n",
      "('is', 'i', False)\n",
      "('used', 'u', False)\n",
      "('for', 'f', False)\n",
      "('bigdata', 'b', False)\n"
     ]
    }
   ],
   "source": [
    "for word in words_transformed_rdd.collect():\n",
    "    print(word)"
   ]
  },
  {
   "cell_type": "code",
   "execution_count": 33,
   "id": "fcb3f51e",
   "metadata": {},
   "outputs": [
    {
     "name": "stdout",
     "output_type": "stream",
     "text": [
      "['S', 'p', 'a', 'r', 'k', 'i', 's', 'a', 'n', 'a', 'w', 'e', 's', 'o', 'm', 'e', 'l', 'a', 'n', 'g']\n"
     ]
    }
   ],
   "source": [
    "### FLAT_MAP IS A SIMPLE EXTENSION OF MAP \n",
    "words_flatmap_rdd = words_rdd.flatMap(lambda word: list(word)).take(20)\n",
    "print(words_flatmap_rdd)"
   ]
  },
  {
   "cell_type": "code",
   "execution_count": 38,
   "id": "02a56093",
   "metadata": {},
   "outputs": [
    {
     "name": "stdout",
     "output_type": "stream",
     "text": [
      "['S', 'p', 'a', 'r', 'k']\n",
      "['i', 's']\n",
      "['a', 'n']\n",
      "['a', 'w', 'e', 's', 'o', 'm', 'e']\n",
      "['l', 'a', 'n', 'g', 'u', 'a', 'g', 'e']\n",
      "['f', 'o', 'r']\n",
      "['b', 'i', 'g', 'd', 'a', 't', 'a', '.']\n",
      "['S', 'p', 'a', 'r', 'k']\n",
      "['i', 's']\n",
      "['u', 's', 'e', 'd']\n",
      "['f', 'o', 'r']\n",
      "['b', 'i', 'g', 'd', 'a', 't', 'a']\n"
     ]
    }
   ],
   "source": [
    "for word in words_rdd.collect():\n",
    "    print(list(word))"
   ]
  },
  {
   "cell_type": "code",
   "execution_count": 51,
   "id": "c35d7efd",
   "metadata": {},
   "outputs": [
    {
     "data": {
      "text/plain": [
       "[('India', 20), ('UK', 50), ('USA', 1), ('Russia', 200)]"
      ]
     },
     "execution_count": 51,
     "metadata": {},
     "output_type": "execute_result"
    }
   ],
   "source": [
    "### using SORTBY \n",
    "\n",
    "country_ranking = [(\"India\",20),(\"UK\",50),(\"USA\",1),(\"Russia\",200)]\n",
    "country_ranking_rdd = spark.sparkContext.parallelize(country_ranking)\n",
    "country_ranking_rdd.collect()"
   ]
  },
  {
   "cell_type": "code",
   "execution_count": 49,
   "id": "833639ab",
   "metadata": {},
   "outputs": [
    {
     "data": {
      "text/plain": [
       "('India', 20)"
      ]
     },
     "execution_count": 49,
     "metadata": {},
     "output_type": "execute_result"
    }
   ],
   "source": [
    "country_ranking_rdd.collect()[0]"
   ]
  },
  {
   "cell_type": "code",
   "execution_count": null,
   "id": "58ee46a4",
   "metadata": {},
   "outputs": [],
   "source": []
  },
  {
   "cell_type": "code",
   "execution_count": null,
   "id": "fb8ce952",
   "metadata": {},
   "outputs": [],
   "source": []
  },
  {
   "cell_type": "code",
   "execution_count": 52,
   "id": "97898485",
   "metadata": {},
   "outputs": [
    {
     "data": {
      "text/plain": [
       "[('India', 20), ('Russia', 200), ('UK', 50), ('USA', 1)]"
      ]
     },
     "execution_count": 52,
     "metadata": {},
     "output_type": "execute_result"
    }
   ],
   "source": [
    "country_ranking_rdd.sortByKey().collect()\n",
    "#### Sorting by the Alpabetical order"
   ]
  },
  {
   "cell_type": "code",
   "execution_count": 56,
   "id": "2cb091e9",
   "metadata": {},
   "outputs": [
    {
     "data": {
      "text/plain": [
       "[(200, 'Russia'), (50, 'UK'), (20, 'India'), (1, 'USA')]"
      ]
     },
     "execution_count": 56,
     "metadata": {},
     "output_type": "execute_result"
    }
   ],
   "source": [
    "country_ranking_rdd.map(lambda val: (val[1],val[0])).sortByKey(False).collect()\n",
    "#### SORTING BY THE RANKING BY IT IS ACHIEVED MY \n",
    "#### REPLACING THE / SWITCHING THE NAME AND RAKING VALUES VIA MAP AND \n",
    "### DID THE SORTING ON TOP OF IT "
   ]
  },
  {
   "cell_type": "code",
   "execution_count": null,
   "id": "e5ed55fa",
   "metadata": {},
   "outputs": [],
   "source": []
  },
  {
   "cell_type": "code",
   "execution_count": 58,
   "id": "3724b139",
   "metadata": {},
   "outputs": [
    {
     "data": {
      "text/plain": [
       "[('USA', 1), ('India', 20), ('UK', 50), ('Russia', 200)]"
      ]
     },
     "execution_count": 58,
     "metadata": {},
     "output_type": "execute_result"
    }
   ],
   "source": [
    "country_ranking_rdd.sortBy(lambda val: val[1]).collect()"
   ]
  },
  {
   "cell_type": "code",
   "execution_count": 59,
   "id": "abea859b",
   "metadata": {},
   "outputs": [
    {
     "data": {
      "text/plain": [
       "[('India', 20), ('Russia', 200), ('UK', 50), ('USA', 1)]"
      ]
     },
     "execution_count": 59,
     "metadata": {},
     "output_type": "execute_result"
    }
   ],
   "source": [
    "country_ranking_rdd.sortBy(lambda val: val[0]).collect()"
   ]
  },
  {
   "cell_type": "code",
   "execution_count": 65,
   "id": "dfaf84d6",
   "metadata": {},
   "outputs": [
    {
     "data": {
      "text/plain": [
       "('b', 2)"
      ]
     },
     "execution_count": 65,
     "metadata": {},
     "output_type": "execute_result"
    }
   ],
   "source": [
    "tmp = [('a', 1), ('b', 2), ('1', 3), ('d', 4), ('2', 5)]\n",
    "tmp[1]"
   ]
  },
  {
   "cell_type": "code",
   "execution_count": 63,
   "id": "c53624ab",
   "metadata": {},
   "outputs": [
    {
     "data": {
      "text/plain": [
       "[('1', 3), ('2', 5), ('a', 1), ('b', 2), ('d', 4)]"
      ]
     },
     "execution_count": 63,
     "metadata": {},
     "output_type": "execute_result"
    }
   ],
   "source": [
    "tmp = [('a', 1), ('b', 2), ('1', 3), ('d', 4), ('2', 5)]\n",
    "spark.sparkContext.parallelize(tmp).sortBy(lambda x: x[0]).collect()\n",
    "### [('1', 3), ('2', 5), ('a', 1), ('b', 2), ('d', 4)]\n"
   ]
  },
  {
   "cell_type": "code",
   "execution_count": 62,
   "id": "7171f022",
   "metadata": {},
   "outputs": [
    {
     "data": {
      "text/plain": [
       "[('a', 1), ('b', 2), ('1', 3), ('d', 4), ('2', 5)]"
      ]
     },
     "execution_count": 62,
     "metadata": {},
     "output_type": "execute_result"
    }
   ],
   "source": [
    "spark.sparkContext.parallelize(tmp).sortBy(lambda x: x[1]).collect()\n",
    "### [('a', 1), ('b', 2), ('1', 3), ('d', 4), ('2', 5)]"
   ]
  },
  {
   "cell_type": "code",
   "execution_count": null,
   "id": "ebdc9ee3",
   "metadata": {},
   "outputs": [],
   "source": []
  }
 ],
 "metadata": {
  "kernelspec": {
   "display_name": "Python 3",
   "language": "python",
   "name": "python3"
  },
  "language_info": {
   "codemirror_mode": {
    "name": "ipython",
    "version": 3
   },
   "file_extension": ".py",
   "mimetype": "text/x-python",
   "name": "python",
   "nbconvert_exporter": "python",
   "pygments_lexer": "ipython3",
   "version": "3.8.8"
  }
 },
 "nbformat": 4,
 "nbformat_minor": 5
}
