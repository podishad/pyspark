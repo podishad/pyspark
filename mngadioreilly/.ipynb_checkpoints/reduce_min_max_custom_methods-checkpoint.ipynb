{
 "cells": [
  {
   "cell_type": "code",
   "execution_count": 1,
   "id": "ff7116ff",
   "metadata": {},
   "outputs": [],
   "source": [
    "from pyspark.sql import SparkSession\n",
    "spark = SparkSession.builder.appName(\"reduce_testing\").getOrCreate()"
   ]
  },
  {
   "cell_type": "code",
   "execution_count": 2,
   "id": "61034d93",
   "metadata": {},
   "outputs": [],
   "source": [
    "num_list = [1,5,2,3,4]"
   ]
  },
  {
   "cell_type": "code",
   "execution_count": 3,
   "id": "8cfd6fd5",
   "metadata": {},
   "outputs": [
    {
     "name": "stdout",
     "output_type": "stream",
     "text": [
      "15\n"
     ]
    }
   ],
   "source": [
    "result = spark.sparkContext.parallelize(num_list).reduce(lambda x,y : x + y)\n",
    "print(result)"
   ]
  },
  {
   "cell_type": "code",
   "execution_count": 4,
   "id": "4fcb3108",
   "metadata": {},
   "outputs": [],
   "source": [
    "def sum_list(x,y):\n",
    "    print(x,y)\n",
    "    return(x+y)"
   ]
  },
  {
   "cell_type": "code",
   "execution_count": 5,
   "id": "d3105974",
   "metadata": {},
   "outputs": [
    {
     "name": "stdout",
     "output_type": "stream",
     "text": [
      "1 5\n",
      "6 2\n",
      "8 3\n",
      "11 4\n",
      "15\n"
     ]
    }
   ],
   "source": [
    "result_fun = spark.sparkContext.parallelize(num_list).reduce(lambda x,y: sum_list(x,y))\n",
    "print (result_fun)"
   ]
  },
  {
   "cell_type": "code",
   "execution_count": 10,
   "id": "c434c944",
   "metadata": {},
   "outputs": [
    {
     "name": "stdout",
     "output_type": "stream",
     "text": [
      "Spark is a  reallyawesome language for bigdata. Spark is used for bigdata\n",
      "['Spark', 'is', 'a', '', 'reallyawesome', 'language', 'for', 'bigdata.', 'Spark', 'is', 'used', 'for', 'bigdata']\n"
     ]
    }
   ],
   "source": [
    "### FIND THE LONGEST WORD IN THE LIST \n",
    "\n",
    "words_string = \"Spark is a  reallyawesome language for bigdata. Spark is used for bigdata\"\n",
    "print(words_string)\n",
    "words_string_list = words_string.split(' ')\n",
    "print(words_string_list)"
   ]
  },
  {
   "cell_type": "code",
   "execution_count": 11,
   "id": "0536eeff",
   "metadata": {},
   "outputs": [
    {
     "name": "stdout",
     "output_type": "stream",
     "text": [
      "ParallelCollectionRDD[4] at readRDDFromFile at PythonRDD.scala:274\n"
     ]
    }
   ],
   "source": [
    "words_rdd = spark.sparkContext.parallelize(words_string_list)\n",
    "print(words_rdd)"
   ]
  },
  {
   "cell_type": "code",
   "execution_count": 13,
   "id": "4d5594ba",
   "metadata": {},
   "outputs": [],
   "source": [
    "def wordsLengthFinder(leftWord, rightWord):\n",
    "    if len(leftWord) > len(rightWord):\n",
    "        return leftWord\n",
    "    else:\n",
    "        return rightWord"
   ]
  },
  {
   "cell_type": "code",
   "execution_count": 15,
   "id": "f81f3dbb",
   "metadata": {},
   "outputs": [
    {
     "name": "stdout",
     "output_type": "stream",
     "text": [
      "reallyawesome\n"
     ]
    }
   ],
   "source": [
    "biggestWord = spark.sparkContext.parallelize(words_string_list).reduce(lambda lw,rw : wordsLengthFinder(lw,rw))\n",
    "print(biggestWord)"
   ]
  },
  {
   "cell_type": "code",
   "execution_count": 16,
   "id": "0be8ed48",
   "metadata": {},
   "outputs": [
    {
     "data": {
      "text/plain": [
       "'reallyawesome'"
      ]
     },
     "execution_count": 16,
     "metadata": {},
     "output_type": "execute_result"
    }
   ],
   "source": [
    "words_rdd.reduce(wordsLengthFinder)"
   ]
  },
  {
   "cell_type": "code",
   "execution_count": 17,
   "id": "9d923bec",
   "metadata": {},
   "outputs": [
    {
     "name": "stdout",
     "output_type": "stream",
     "text": [
      "1 5\n",
      "6 2\n",
      "8 3\n",
      "11 4\n"
     ]
    },
    {
     "data": {
      "text/plain": [
       "15"
      ]
     },
     "execution_count": 17,
     "metadata": {},
     "output_type": "execute_result"
    }
   ],
   "source": [
    "spark.sparkContext.parallelize(num_list).reduce(sum_list)"
   ]
  },
  {
   "cell_type": "code",
   "execution_count": null,
   "id": "4f99e8aa",
   "metadata": {},
   "outputs": [],
   "source": []
  },
  {
   "cell_type": "code",
   "execution_count": null,
   "id": "861b1e40",
   "metadata": {},
   "outputs": [],
   "source": []
  },
  {
   "cell_type": "code",
   "execution_count": null,
   "id": "d4f3da1e",
   "metadata": {},
   "outputs": [],
   "source": []
  },
  {
   "cell_type": "code",
   "execution_count": null,
   "id": "aad7d84d",
   "metadata": {},
   "outputs": [],
   "source": []
  },
  {
   "cell_type": "code",
   "execution_count": null,
   "id": "1fa8a4af",
   "metadata": {},
   "outputs": [],
   "source": []
  },
  {
   "cell_type": "code",
   "execution_count": null,
   "id": "032bd348",
   "metadata": {},
   "outputs": [],
   "source": []
  }
 ],
 "metadata": {
  "kernelspec": {
   "display_name": "Python 3",
   "language": "python",
   "name": "python3"
  },
  "language_info": {
   "codemirror_mode": {
    "name": "ipython",
    "version": 3
   },
   "file_extension": ".py",
   "mimetype": "text/x-python",
   "name": "python",
   "nbconvert_exporter": "python",
   "pygments_lexer": "ipython3",
   "version": "3.8.8"
  }
 },
 "nbformat": 4,
 "nbformat_minor": 5
}
