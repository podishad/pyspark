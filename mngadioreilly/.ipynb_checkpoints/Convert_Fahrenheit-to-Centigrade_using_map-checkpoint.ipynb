{
 "cells": [
  {
   "cell_type": "code",
   "execution_count": null,
   "id": "c411abd9",
   "metadata": {},
   "outputs": [],
   "source": []
  },
  {
   "cell_type": "code",
   "execution_count": 1,
   "id": "61d9104c",
   "metadata": {},
   "outputs": [],
   "source": [
    "from pyspark.sql import SparkSession\n",
    "spark = SparkSession.builder.appName(\"ConvertFtoC\").getOrCreate()"
   ]
  },
  {
   "cell_type": "code",
   "execution_count": 2,
   "id": "cbfadc0c",
   "metadata": {},
   "outputs": [],
   "source": [
    "temp_details = spark.read.csv(\"../data/daily_temp.csv\", header=True, inferSchema=True)"
   ]
  },
  {
   "cell_type": "code",
   "execution_count": 3,
   "id": "09e80428",
   "metadata": {},
   "outputs": [
    {
     "name": "stdout",
     "output_type": "stream",
     "text": [
      "+----+-------+\n",
      "|days|tempinF|\n",
      "+----+-------+\n",
      "|day1|   59.0|\n",
      "|day2|   57.2|\n",
      "|day3|   53.6|\n",
      "|day4|   55.4|\n",
      "|day5|   51.8|\n",
      "|day6|   53.6|\n",
      "|day7|   55.4|\n",
      "+----+-------+\n",
      "\n"
     ]
    }
   ],
   "source": [
    "temp_details.show()"
   ]
  },
  {
   "cell_type": "code",
   "execution_count": 4,
   "id": "1628f8dc",
   "metadata": {},
   "outputs": [
    {
     "data": {
      "text/plain": [
       "pyspark.sql.dataframe.DataFrame"
      ]
     },
     "execution_count": 4,
     "metadata": {},
     "output_type": "execute_result"
    }
   ],
   "source": [
    "type(temp_details)"
   ]
  },
  {
   "cell_type": "code",
   "execution_count": null,
   "id": "61049155",
   "metadata": {},
   "outputs": [],
   "source": [
    "#### F to C formula   C = (F-32)*5/9"
   ]
  },
  {
   "cell_type": "code",
   "execution_count": 23,
   "id": "d1e67e4f",
   "metadata": {},
   "outputs": [
    {
     "name": "stdout",
     "output_type": "stream",
     "text": [
      "+----+-------+------------------+\n",
      "|days|tempinF|           tempinC|\n",
      "+----+-------+------------------+\n",
      "|day1|   59.0|              15.0|\n",
      "|day2|   57.2|14.000000000000002|\n",
      "|day3|   53.6|              12.0|\n",
      "|day4|   55.4|              13.0|\n",
      "|day5|   51.8|10.999999999999998|\n",
      "|day6|   53.6|              12.0|\n",
      "|day7|   55.4|              13.0|\n",
      "+----+-------+------------------+\n",
      "\n"
     ]
    }
   ],
   "source": [
    "temp_f2c = temp_details.withColumn(\"tempinC\", (temp_details['tempinF']-32)*5/9)\n",
    "temp_f2c.show()"
   ]
  },
  {
   "cell_type": "code",
   "execution_count": null,
   "id": "ef20fa36",
   "metadata": {},
   "outputs": [],
   "source": []
  },
  {
   "cell_type": "code",
   "execution_count": null,
   "id": "2a6a190a",
   "metadata": {},
   "outputs": [],
   "source": []
  },
  {
   "cell_type": "code",
   "execution_count": 6,
   "id": "4f609f17",
   "metadata": {},
   "outputs": [
    {
     "name": "stdout",
     "output_type": "stream",
     "text": [
      "+-------+\n",
      "|tempinF|\n",
      "+-------+\n",
      "|   59.0|\n",
      "|   57.2|\n",
      "|   53.6|\n",
      "|   55.4|\n",
      "|   51.8|\n",
      "|   53.6|\n",
      "|   55.4|\n",
      "+-------+\n",
      "\n"
     ]
    }
   ],
   "source": [
    "temp_details.select(\"tempinF\").show()"
   ]
  },
  {
   "cell_type": "code",
   "execution_count": 15,
   "id": "321cf8f0",
   "metadata": {},
   "outputs": [
    {
     "data": {
      "text/plain": [
       "[59.0, 57.2, 53.6, 55.4, 51.8, 53.6, 55.4]"
      ]
     },
     "execution_count": 15,
     "metadata": {},
     "output_type": "execute_result"
    }
   ],
   "source": [
    "temp_list = [59.0,57.2,53.6,55.4,51.8,53.6,55.4]\n",
    "temp_list_rdd = spark.sparkContext.parallelize(temp_list)\n",
    "temp_list_rdd.collect()"
   ]
  },
  {
   "cell_type": "code",
   "execution_count": 17,
   "id": "d573226f",
   "metadata": {},
   "outputs": [],
   "source": [
    "def convertF2C(far):\n",
    "    return ((far - 32) * 5 /9)"
   ]
  },
  {
   "cell_type": "code",
   "execution_count": 19,
   "id": "05278b00",
   "metadata": {},
   "outputs": [
    {
     "data": {
      "text/plain": [
       "15.0"
      ]
     },
     "execution_count": 19,
     "metadata": {},
     "output_type": "execute_result"
    }
   ],
   "source": [
    "convertF2C(59)\n"
   ]
  },
  {
   "cell_type": "code",
   "execution_count": 21,
   "id": "508e703c",
   "metadata": {},
   "outputs": [
    {
     "data": {
      "text/plain": [
       "[15.0, 14.000000000000002, 12.0, 13.0, 10.999999999999998, 12.0, 13.0]"
      ]
     },
     "execution_count": 21,
     "metadata": {},
     "output_type": "execute_result"
    }
   ],
   "source": [
    "tempCen_RDD = temp_list_rdd.map(lambda temp: convertF2C(temp))\n",
    "tempCen_RDD.collect()"
   ]
  },
  {
   "cell_type": "code",
   "execution_count": null,
   "id": "becf5233",
   "metadata": {},
   "outputs": [],
   "source": []
  },
  {
   "cell_type": "code",
   "execution_count": 26,
   "id": "35a916db",
   "metadata": {},
   "outputs": [
    {
     "data": {
      "text/plain": [
       "[15.0, 14.000000000000002, 13.0, 13.0]"
      ]
     },
     "execution_count": 26,
     "metadata": {},
     "output_type": "execute_result"
    }
   ],
   "source": [
    "tempCen_RDD.filter(lambda c: c >= 13.0).collect()"
   ]
  },
  {
   "cell_type": "code",
   "execution_count": null,
   "id": "24f44541",
   "metadata": {},
   "outputs": [],
   "source": []
  },
  {
   "cell_type": "code",
   "execution_count": null,
   "id": "eae46b3f",
   "metadata": {},
   "outputs": [],
   "source": []
  },
  {
   "cell_type": "code",
   "execution_count": null,
   "id": "94ac2e0f",
   "metadata": {},
   "outputs": [],
   "source": []
  }
 ],
 "metadata": {
  "kernelspec": {
   "display_name": "Python 3",
   "language": "python",
   "name": "python3"
  },
  "language_info": {
   "codemirror_mode": {
    "name": "ipython",
    "version": 3
   },
   "file_extension": ".py",
   "mimetype": "text/x-python",
   "name": "python",
   "nbconvert_exporter": "python",
   "pygments_lexer": "ipython3",
   "version": "3.8.8"
  }
 },
 "nbformat": 4,
 "nbformat_minor": 5
}
