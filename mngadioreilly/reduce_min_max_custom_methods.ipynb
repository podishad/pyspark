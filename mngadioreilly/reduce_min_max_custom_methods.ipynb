{
 "cells": [
  {
   "cell_type": "code",
   "execution_count": 1,
   "id": "fd4607ec",
   "metadata": {},
   "outputs": [],
   "source": [
    "from pyspark.sql import SparkSession\n",
    "spark = SparkSession.builder.appName(\"reduce_testing\").getOrCreate()"
   ]
  },
  {
   "cell_type": "code",
   "execution_count": 2,
   "id": "5a55cd6a",
   "metadata": {},
   "outputs": [],
   "source": [
    "num_list = [1,5,2,3,4]"
   ]
  },
  {
   "cell_type": "code",
   "execution_count": 3,
   "id": "3ec78268",
   "metadata": {},
   "outputs": [
    {
     "name": "stdout",
     "output_type": "stream",
     "text": [
      "15\n"
     ]
    }
   ],
   "source": [
    "result = spark.sparkContext.parallelize(num_list).reduce(lambda x,y : x + y)\n",
    "print(result)"
   ]
  },
  {
   "cell_type": "code",
   "execution_count": 4,
   "id": "268ba87a",
   "metadata": {},
   "outputs": [],
   "source": [
    "def sum_list(x,y):\n",
    "    print(x,y)\n",
    "    return(x+y)"
   ]
  },
  {
   "cell_type": "code",
   "execution_count": 5,
   "id": "a5732b4c",
   "metadata": {},
   "outputs": [
    {
     "name": "stdout",
     "output_type": "stream",
     "text": [
      "1 5\n",
      "6 2\n",
      "8 3\n",
      "11 4\n",
      "15\n"
     ]
    }
   ],
   "source": [
    "result_fun = spark.sparkContext.parallelize(num_list).reduce(lambda x,y: sum_list(x,y))\n",
    "print (result_fun)"
   ]
  },
  {
   "cell_type": "code",
   "execution_count": 10,
   "id": "c750e12c",
   "metadata": {},
   "outputs": [
    {
     "name": "stdout",
     "output_type": "stream",
     "text": [
      "Spark is a  reallyawesome language for bigdata. Spark is used for bigdata\n",
      "['Spark', 'is', 'a', '', 'reallyawesome', 'language', 'for', 'bigdata.', 'Spark', 'is', 'used', 'for', 'bigdata']\n"
     ]
    }
   ],
   "source": [
    "### FIND THE LONGEST WORD IN THE LIST \n",
    "\n",
    "words_string = \"Spark is a  reallyawesome language for bigdata. Spark is used for bigdata\"\n",
    "print(words_string)\n",
    "words_string_list = words_string.split(' ')\n",
    "print(words_string_list)"
   ]
  },
  {
   "cell_type": "code",
   "execution_count": 11,
   "id": "eee1a83f",
   "metadata": {},
   "outputs": [
    {
     "name": "stdout",
     "output_type": "stream",
     "text": [
      "ParallelCollectionRDD[4] at readRDDFromFile at PythonRDD.scala:274\n"
     ]
    }
   ],
   "source": [
    "words_rdd = spark.sparkContext.parallelize(words_string_list)\n",
    "print(words_rdd)"
   ]
  },
  {
   "cell_type": "code",
   "execution_count": 13,
   "id": "ce8f2e3a",
   "metadata": {},
   "outputs": [],
   "source": [
    "def wordsLengthFinder(leftWord, rightWord):\n",
    "    if len(leftWord) > len(rightWord):\n",
    "        return leftWord\n",
    "    else:\n",
    "        return rightWord"
   ]
  },
  {
   "cell_type": "code",
   "execution_count": 15,
   "id": "70948b0a",
   "metadata": {},
   "outputs": [
    {
     "name": "stdout",
     "output_type": "stream",
     "text": [
      "reallyawesome\n"
     ]
    }
   ],
   "source": [
    "biggestWord = spark.sparkContext.parallelize(words_string_list).reduce(lambda lw,rw : wordsLengthFinder(lw,rw))\n",
    "print(biggestWord)"
   ]
  },
  {
   "cell_type": "code",
   "execution_count": 16,
   "id": "d41059c3",
   "metadata": {},
   "outputs": [
    {
     "data": {
      "text/plain": [
       "'reallyawesome'"
      ]
     },
     "execution_count": 16,
     "metadata": {},
     "output_type": "execute_result"
    }
   ],
   "source": [
    "words_rdd.reduce(wordsLengthFinder)"
   ]
  },
  {
   "cell_type": "code",
   "execution_count": 17,
   "id": "95b3fd36",
   "metadata": {},
   "outputs": [
    {
     "name": "stdout",
     "output_type": "stream",
     "text": [
      "1 5\n",
      "6 2\n",
      "8 3\n",
      "11 4\n"
     ]
    },
    {
     "data": {
      "text/plain": [
       "15"
      ]
     },
     "execution_count": 17,
     "metadata": {},
     "output_type": "execute_result"
    }
   ],
   "source": [
    "spark.sparkContext.parallelize(num_list).reduce(sum_list)"
   ]
  },
  {
   "cell_type": "code",
   "execution_count": 18,
   "id": "98d5ff05",
   "metadata": {},
   "outputs": [
    {
     "data": {
      "text/plain": [
       "'Spark'"
      ]
     },
     "execution_count": 18,
     "metadata": {},
     "output_type": "execute_result"
    }
   ],
   "source": [
    "words_rdd.first()"
   ]
  },
  {
   "cell_type": "code",
   "execution_count": 19,
   "id": "27ead350",
   "metadata": {},
   "outputs": [
    {
     "data": {
      "text/plain": [
       "1"
      ]
     },
     "execution_count": 19,
     "metadata": {},
     "output_type": "execute_result"
    }
   ],
   "source": [
    "spark.sparkContext.parallelize(num_list).min()"
   ]
  },
  {
   "cell_type": "code",
   "execution_count": 20,
   "id": "d9d0fddf",
   "metadata": {},
   "outputs": [
    {
     "data": {
      "text/plain": [
       "5"
      ]
     },
     "execution_count": 20,
     "metadata": {},
     "output_type": "execute_result"
    }
   ],
   "source": [
    "spark.sparkContext.parallelize(num_list).max()"
   ]
  },
  {
   "cell_type": "code",
   "execution_count": 22,
   "id": "337b58a1",
   "metadata": {},
   "outputs": [
    {
     "data": {
      "text/plain": [
       "3.0"
      ]
     },
     "execution_count": 22,
     "metadata": {},
     "output_type": "execute_result"
    }
   ],
   "source": [
    "spark.sparkContext.parallelize(num_list).mean()"
   ]
  },
  {
   "cell_type": "code",
   "execution_count": null,
   "id": "22d79916",
   "metadata": {},
   "outputs": [],
   "source": []
  },
  {
   "cell_type": "code",
   "execution_count": null,
   "id": "ab562f5d",
   "metadata": {},
   "outputs": [],
   "source": []
  }
 ],
 "metadata": {
  "kernelspec": {
   "display_name": "Python 3",
   "language": "python",
   "name": "python3"
  },
  "language_info": {
   "codemirror_mode": {
    "name": "ipython",
    "version": 3
   },
   "file_extension": ".py",
   "mimetype": "text/x-python",
   "name": "python",
   "nbconvert_exporter": "python",
   "pygments_lexer": "ipython3",
   "version": "3.8.8"
  }
 },
 "nbformat": 4,
 "nbformat_minor": 5
}
