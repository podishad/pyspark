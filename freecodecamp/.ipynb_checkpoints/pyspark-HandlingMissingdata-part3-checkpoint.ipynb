{
 "cells": [
  {
   "cell_type": "code",
   "execution_count": 1,
   "id": "19288c84",
   "metadata": {},
   "outputs": [],
   "source": [
    "from pyspark.sql import SparkSession\n",
    "spark = SparkSession.builder.appName('HandlingMissingData').getOrCreate()"
   ]
  },
  {
   "cell_type": "code",
   "execution_count": 2,
   "id": "cbe144c4",
   "metadata": {},
   "outputs": [
    {
     "data": {
      "text/html": [
       "\n",
       "            <div>\n",
       "                <p><b>SparkSession - in-memory</b></p>\n",
       "                \n",
       "        <div>\n",
       "            <p><b>SparkContext</b></p>\n",
       "\n",
       "            <p><a href=\"http://macpro.local:4041\">Spark UI</a></p>\n",
       "\n",
       "            <dl>\n",
       "              <dt>Version</dt>\n",
       "                <dd><code>v3.2.0</code></dd>\n",
       "              <dt>Master</dt>\n",
       "                <dd><code>local[*]</code></dd>\n",
       "              <dt>AppName</dt>\n",
       "                <dd><code>HandlingMissingData</code></dd>\n",
       "            </dl>\n",
       "        </div>\n",
       "        \n",
       "            </div>\n",
       "        "
      ],
      "text/plain": [
       "<pyspark.sql.session.SparkSession at 0x7f9b585101c0>"
      ]
     },
     "execution_count": 2,
     "metadata": {},
     "output_type": "execute_result"
    }
   ],
   "source": [
    "spark"
   ]
  },
  {
   "cell_type": "code",
   "execution_count": 3,
   "id": "501c1f8e",
   "metadata": {},
   "outputs": [
    {
     "name": "stdout",
     "output_type": "stream",
     "text": [
      "+------+----+----------+------+\n",
      "|  Name| Age|Experience|Salary|\n",
      "+------+----+----------+------+\n",
      "| David|  50|        20| 20000|\n",
      "|Daniel|  25|         2|  3000|\n",
      "|  John|  30|        13|  5000|\n",
      "| Smith|  43|        15| 60000|\n",
      "|   Joe|  40|      null| 50000|\n",
      "|  Kyle|null|        60|  null|\n",
      "|  null|  50|        30|  null|\n",
      "|  null|null|        10|  null|\n",
      "|  null|null|      null|  null|\n",
      "|  null|null|      null|  null|\n",
      "|  null|null|      null|  null|\n",
      "|  null|null|      null|  null|\n",
      "+------+----+----------+------+\n",
      "\n"
     ]
    }
   ],
   "source": [
    "df = spark.read.csv(\"../data/datawithnull.csv\", header=True,inferSchema=True)\n",
    "df.show()"
   ]
  },
  {
   "cell_type": "code",
   "execution_count": 4,
   "id": "f2329659",
   "metadata": {},
   "outputs": [
    {
     "name": "stdout",
     "output_type": "stream",
     "text": [
      "+----+----------+------+\n",
      "| Age|Experience|Salary|\n",
      "+----+----------+------+\n",
      "|  50|        20| 20000|\n",
      "|  25|         2|  3000|\n",
      "|  30|        13|  5000|\n",
      "|  43|        15| 60000|\n",
      "|  40|      null| 50000|\n",
      "|null|        60|  null|\n",
      "|  50|        30|  null|\n",
      "|null|        10|  null|\n",
      "|null|      null|  null|\n",
      "|null|      null|  null|\n",
      "|null|      null|  null|\n",
      "|null|      null|  null|\n",
      "+----+----------+------+\n",
      "\n"
     ]
    }
   ],
   "source": [
    "### DROPPING THE COLUMNS \n",
    "df.drop('Name').show()"
   ]
  },
  {
   "cell_type": "code",
   "execution_count": 5,
   "id": "97fa67e9",
   "metadata": {},
   "outputs": [
    {
     "name": "stdout",
     "output_type": "stream",
     "text": [
      "+------+----+----------+------+\n",
      "|  Name| Age|Experience|Salary|\n",
      "+------+----+----------+------+\n",
      "| David|  50|        20| 20000|\n",
      "|Daniel|  25|         2|  3000|\n",
      "|  John|  30|        13|  5000|\n",
      "| Smith|  43|        15| 60000|\n",
      "|   Joe|  40|      null| 50000|\n",
      "|  Kyle|null|        60|  null|\n",
      "|  null|  50|        30|  null|\n",
      "|  null|null|        10|  null|\n",
      "|  null|null|      null|  null|\n",
      "|  null|null|      null|  null|\n",
      "|  null|null|      null|  null|\n",
      "|  null|null|      null|  null|\n",
      "+------+----+----------+------+\n",
      "\n"
     ]
    }
   ],
   "source": [
    "df.show()"
   ]
  },
  {
   "cell_type": "code",
   "execution_count": 6,
   "id": "20ea4d0f",
   "metadata": {},
   "outputs": [
    {
     "name": "stdout",
     "output_type": "stream",
     "text": [
      "+------+---+----------+------+\n",
      "|  Name|Age|Experience|Salary|\n",
      "+------+---+----------+------+\n",
      "| David| 50|        20| 20000|\n",
      "|Daniel| 25|         2|  3000|\n",
      "|  John| 30|        13|  5000|\n",
      "| Smith| 43|        15| 60000|\n",
      "+------+---+----------+------+\n",
      "\n"
     ]
    }
   ],
   "source": [
    "df.na.drop().show() "
   ]
  },
  {
   "cell_type": "code",
   "execution_count": 7,
   "id": "9b55733f",
   "metadata": {},
   "outputs": [],
   "source": [
    "### DROP HAS 3 OPTIONS \n",
    "### how=any   thresh=None.  subset=NOne\n"
   ]
  },
  {
   "cell_type": "code",
   "execution_count": 8,
   "id": "bb8fac2a",
   "metadata": {},
   "outputs": [
    {
     "name": "stdout",
     "output_type": "stream",
     "text": [
      "+------+---+----------+------+\n",
      "|  Name|Age|Experience|Salary|\n",
      "+------+---+----------+------+\n",
      "| David| 50|        20| 20000|\n",
      "|Daniel| 25|         2|  3000|\n",
      "|  John| 30|        13|  5000|\n",
      "| Smith| 43|        15| 60000|\n",
      "+------+---+----------+------+\n",
      "\n"
     ]
    }
   ],
   "source": [
    "### DEFAULT VALUE IS how = 'any'\n",
    "df.na.drop(how='any').show()"
   ]
  },
  {
   "cell_type": "code",
   "execution_count": 9,
   "id": "1bf72fca",
   "metadata": {},
   "outputs": [
    {
     "name": "stdout",
     "output_type": "stream",
     "text": [
      "+------+----+----------+------+\n",
      "|  Name| Age|Experience|Salary|\n",
      "+------+----+----------+------+\n",
      "| David|  50|        20| 20000|\n",
      "|Daniel|  25|         2|  3000|\n",
      "|  John|  30|        13|  5000|\n",
      "| Smith|  43|        15| 60000|\n",
      "|   Joe|  40|      null| 50000|\n",
      "|  Kyle|null|        60|  null|\n",
      "|  null|  50|        30|  null|\n",
      "|  null|null|        10|  null|\n",
      "+------+----+----------+------+\n",
      "\n"
     ]
    }
   ],
   "source": [
    "df.na.drop(how='all').show()"
   ]
  },
  {
   "cell_type": "code",
   "execution_count": 10,
   "id": "727db34b",
   "metadata": {},
   "outputs": [
    {
     "name": "stdout",
     "output_type": "stream",
     "text": [
      "+------+---+----------+------+\n",
      "|  Name|Age|Experience|Salary|\n",
      "+------+---+----------+------+\n",
      "| David| 50|        20| 20000|\n",
      "|Daniel| 25|         2|  3000|\n",
      "|  John| 30|        13|  5000|\n",
      "| Smith| 43|        15| 60000|\n",
      "|   Joe| 40|      null| 50000|\n",
      "+------+---+----------+------+\n",
      "\n"
     ]
    }
   ],
   "source": [
    "### THRESHOLD \n",
    "df.na.drop(how=\"any\",thresh=3).show()"
   ]
  },
  {
   "cell_type": "code",
   "execution_count": 11,
   "id": "21118f83",
   "metadata": {},
   "outputs": [
    {
     "name": "stdout",
     "output_type": "stream",
     "text": [
      "+------+----+----------+------+\n",
      "|  Name| Age|Experience|Salary|\n",
      "+------+----+----------+------+\n",
      "| David|  50|        20| 20000|\n",
      "|Daniel|  25|         2|  3000|\n",
      "|  John|  30|        13|  5000|\n",
      "| Smith|  43|        15| 60000|\n",
      "|   Joe|  40|      null| 50000|\n",
      "|  Kyle|null|        60|  null|\n",
      "+------+----+----------+------+\n",
      "\n"
     ]
    }
   ],
   "source": [
    "### SUBSET \n",
    "df.na.drop(how='any', subset=['Name']).show()"
   ]
  },
  {
   "cell_type": "code",
   "execution_count": 12,
   "id": "3ddd420c",
   "metadata": {},
   "outputs": [
    {
     "name": "stdout",
     "output_type": "stream",
     "text": [
      "+-------------+----+----------+------+\n",
      "|         Name| Age|Experience|Salary|\n",
      "+-------------+----+----------+------+\n",
      "|        David|  50|        20| 20000|\n",
      "|       Daniel|  25|         2|  3000|\n",
      "|         John|  30|        13|  5000|\n",
      "|        Smith|  43|        15| 60000|\n",
      "|          Joe|  40|      null| 50000|\n",
      "|         Kyle|null|        60|  null|\n",
      "|MISSING_VALUE|  50|        30|  null|\n",
      "|MISSING_VALUE|null|        10|  null|\n",
      "|MISSING_VALUE|null|      null|  null|\n",
      "|MISSING_VALUE|null|      null|  null|\n",
      "|MISSING_VALUE|null|      null|  null|\n",
      "|MISSING_VALUE|null|      null|  null|\n",
      "+-------------+----+----------+------+\n",
      "\n"
     ]
    }
   ],
   "source": [
    "### FILLING THE MISSING VALUES\n",
    "df.na.fill('MISSING_VALUE').show()\n"
   ]
  },
  {
   "cell_type": "code",
   "execution_count": 21,
   "id": "dc1195d7",
   "metadata": {},
   "outputs": [
    {
     "name": "stdout",
     "output_type": "stream",
     "text": [
      "+------+----+----------+------+\n",
      "|  Name| Age|Experience|Salary|\n",
      "+------+----+----------+------+\n",
      "| David|  50|        20| 20000|\n",
      "|Daniel|  25|         2|  3000|\n",
      "|  John|  30|        13|  5000|\n",
      "| Smith|  43|        15| 60000|\n",
      "|   Joe|  40|      null| 50000|\n",
      "|  Kyle|null|        60|  null|\n",
      "|    MV|  50|        30|  null|\n",
      "|    MV|null|        10|  null|\n",
      "|    MV|null|      null|  null|\n",
      "|    MV|null|      null|  null|\n",
      "|    MV|null|      null|  null|\n",
      "|    MV|null|      null|  null|\n",
      "+------+----+----------+------+\n",
      "\n"
     ]
    }
   ],
   "source": [
    "df.na.fill('MV').show()\n"
   ]
  },
  {
   "cell_type": "code",
   "execution_count": null,
   "id": "9949bae9",
   "metadata": {},
   "outputs": [],
   "source": []
  },
  {
   "cell_type": "code",
   "execution_count": 23,
   "id": "8e9651f3",
   "metadata": {},
   "outputs": [],
   "source": [
    "from pyspark.ml.feature import Imputer\n",
    "\n",
    "imputer = Imputer(\n",
    "            inputCols = ['Age','Experience','Salary'],\n",
    "            outputCols = [\"{}_imputed\".format(c) for c in ['Age','Experience','Salary']]\n",
    ").setStrategy(\"mean\")"
   ]
  },
  {
   "cell_type": "code",
   "execution_count": 24,
   "id": "11eb5bb3",
   "metadata": {},
   "outputs": [
    {
     "name": "stdout",
     "output_type": "stream",
     "text": [
      "+------+----+----------+------+-----------+------------------+--------------+\n",
      "|  Name| Age|Experience|Salary|Age_imputed|Experience_imputed|Salary_imputed|\n",
      "+------+----+----------+------+-----------+------------------+--------------+\n",
      "| David|  50|        20| 20000|         50|                20|         20000|\n",
      "|Daniel|  25|         2|  3000|         25|                 2|          3000|\n",
      "|  John|  30|        13|  5000|         30|                13|          5000|\n",
      "| Smith|  43|        15| 60000|         43|                15|         60000|\n",
      "|   Joe|  40|      null| 50000|         40|                21|         50000|\n",
      "|  Kyle|null|        60|  null|         39|                60|         27600|\n",
      "|  null|  50|        30|  null|         50|                30|         27600|\n",
      "|  null|null|        10|  null|         39|                10|         27600|\n",
      "|  null|null|      null|  null|         39|                21|         27600|\n",
      "|  null|null|      null|  null|         39|                21|         27600|\n",
      "|  null|null|      null|  null|         39|                21|         27600|\n",
      "|  null|null|      null|  null|         39|                21|         27600|\n",
      "+------+----+----------+------+-----------+------------------+--------------+\n",
      "\n"
     ]
    }
   ],
   "source": [
    "imputer.fit(df).transform(df).show()"
   ]
  },
  {
   "cell_type": "code",
   "execution_count": 25,
   "id": "358d52a8",
   "metadata": {},
   "outputs": [
    {
     "name": "stdout",
     "output_type": "stream",
     "text": [
      "+------+----+----------+------+-----------+------------------+--------------+\n",
      "|  Name| Age|Experience|Salary|Age_imputed|Experience_imputed|Salary_imputed|\n",
      "+------+----+----------+------+-----------+------------------+--------------+\n",
      "| David|  50|        20| 20000|         50|                20|         20000|\n",
      "|Daniel|  25|         2|  3000|         25|                 2|          3000|\n",
      "|  John|  30|        13|  5000|         30|                13|          5000|\n",
      "| Smith|  43|        15| 60000|         43|                15|         60000|\n",
      "|   Joe|  40|      null| 50000|         40|                15|         50000|\n",
      "|  Kyle|null|        60|  null|         40|                60|         20000|\n",
      "|  null|  50|        30|  null|         50|                30|         20000|\n",
      "|  null|null|        10|  null|         40|                10|         20000|\n",
      "|  null|null|      null|  null|         40|                15|         20000|\n",
      "|  null|null|      null|  null|         40|                15|         20000|\n",
      "|  null|null|      null|  null|         40|                15|         20000|\n",
      "|  null|null|      null|  null|         40|                15|         20000|\n",
      "+------+----+----------+------+-----------+------------------+--------------+\n",
      "\n"
     ]
    }
   ],
   "source": [
    "imputer = Imputer(\n",
    "            inputCols = ['Age','Experience','Salary'],\n",
    "            outputCols = [\"{}_imputed\".format(c) for c in ['Age','Experience','Salary']]\n",
    ").setStrategy(\"median\")\n",
    "imputer.fit(df).transform(df).show()"
   ]
  },
  {
   "cell_type": "code",
   "execution_count": null,
   "id": "1e8d1d31",
   "metadata": {},
   "outputs": [],
   "source": []
  },
  {
   "cell_type": "code",
   "execution_count": null,
   "id": "58406322",
   "metadata": {},
   "outputs": [],
   "source": []
  },
  {
   "cell_type": "code",
   "execution_count": null,
   "id": "de70b941",
   "metadata": {},
   "outputs": [],
   "source": []
  },
  {
   "cell_type": "code",
   "execution_count": null,
   "id": "856a0983",
   "metadata": {},
   "outputs": [],
   "source": []
  }
 ],
 "metadata": {
  "kernelspec": {
   "display_name": "Python 3",
   "language": "python",
   "name": "python3"
  },
  "language_info": {
   "codemirror_mode": {
    "name": "ipython",
    "version": 3
   },
   "file_extension": ".py",
   "mimetype": "text/x-python",
   "name": "python",
   "nbconvert_exporter": "python",
   "pygments_lexer": "ipython3",
   "version": "3.8.8"
  }
 },
 "nbformat": 4,
 "nbformat_minor": 5
}
